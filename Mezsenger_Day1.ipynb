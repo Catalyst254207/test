{
  "nbformat": 4,
  "nbformat_minor": 0,
  "metadata": {
    "colab": {
      "name": "Mezsenger Day1",
      "provenance": [],
      "authorship_tag": "ABX9TyNNci1lZ8kCAr8UYqlttjP4",
      "include_colab_link": true
    },
    "kernelspec": {
      "name": "python3",
      "display_name": "Python 3"
    },
    "language_info": {
      "name": "python"
    }
  },
  "cells": [
    {
      "cell_type": "markdown",
      "metadata": {
        "id": "view-in-github",
        "colab_type": "text"
      },
      "source": [
        "<a href=\"https://colab.research.google.com/github/Catalyst254207/test/blob/main/Mezsenger_Day1.ipynb\" target=\"_parent\"><img src=\"https://colab.research.google.com/assets/colab-badge.svg\" alt=\"Open In Colab\"/></a>"
      ]
    },
    {
      "cell_type": "code",
      "execution_count": 8,
      "metadata": {
        "colab": {
          "base_uri": "https://localhost:8080/"
        },
        "id": "K1mI_Ndbsxkw",
        "outputId": "b0c9a0d6-bcb5-4789-fc41-16e262e29b4b"
      },
      "outputs": [
        {
          "output_type": "stream",
          "name": "stdout",
          "text": [
            "Вебинар Знакомимся с Python будет длиться 2 часов, его ведет Миша\n"
          ]
        }
      ],
      "source": [
        "# Переменные: Спмски и Словари\n",
        "# SHIFT+ENTER = Выполнить код\n",
        "\n",
        "speaker = \"Миша\"\n",
        "duration = 130\n",
        "title = \"Знакомимся с Python\"\n",
        "duration_hours = round(duration / 60, 2) # Поделить duration на 60, округлить до 2 знаков и положить в переменную duration_hours\n",
        "print(f\"Вебинар {title} будет длиться {duration_hours} час(а), его ведет {speaker}\")\n"
      ]
    },
    {
      "cell_type": "code",
      "source": [
        "# message - это переменная словарь\n",
        "# ключ: \"значение\"\n",
        "test_message = {\n",
        "      \"text\": \"Эй йоу\",\n",
        "      \"sender\": \"roman\",\n",
        "      \"time\": \"19:31\"\n",
        "}\n",
        "print(test_message[\"sender\"]) # Получить значение из словаря"
      ],
      "metadata": {
        "id": "Jj6FMfsHyQDV"
      },
      "execution_count": null,
      "outputs": []
    },
    {
      "cell_type": "code",
      "source": [
        "visitors = [\"roman\",\"oleg\",\"sasha\",\"olga\"]\n",
        "for visit in visitors: \n",
        "  print(f\"приветствуем дорого поситителя {visit}\")"
      ],
      "metadata": {
        "id": "RXmla-sWvI_K"
      },
      "execution_count": null,
      "outputs": []
    },
    {
      "cell_type": "code",
      "source": [
        "#МЕССЕНДЖЕР\n",
        "all_messages = [] # Список всех сообщений в мессенжере\n",
        "\n",
        "# Функция для вывода сообщений\n",
        "def print_message(message):\n",
        "    print(f\"-[{message['sender']}]: {message['text']} // {message['time']}\")\n",
        "\n",
        "    \n",
        "# Функция для добавления новых сообщений\n",
        "def add_message (sender, text):\n",
        "    new_message = {\n",
        "      \"sender\": sender,\n",
        "      \"text\": text,\n",
        "      \"time\": \"10:05\"\n",
        "    }\n",
        "    # .append = добавление в список\n",
        "    all_messages.append(new_message)\n",
        "\n",
        "add_message(\"roman\", \"all good\")\n",
        "add_message(\"olga\", \"Hello world!\")\n",
        "\n",
        "# Для каждого сообщения в списке all_messages\n",
        "for message in all_messages:\n",
        "    print_message(message)\n"
      ],
      "metadata": {
        "id": "-NgoS_bsyRQ0"
      },
      "execution_count": null,
      "outputs": []
    },
    {
      "cell_type": "code",
      "source": [
        ""
      ],
      "metadata": {
        "id": "IeRftR3i08UF"
      },
      "execution_count": 19,
      "outputs": []
    }
  ]
}